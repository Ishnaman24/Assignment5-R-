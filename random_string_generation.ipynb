{
  "nbformat": 4,
  "nbformat_minor": 0,
  "metadata": {
    "colab": {
      "provenance": [],
      "authorship_tag": "ABX9TyNe97UsYBdLvU+euUgJ2vpa",
      "include_colab_link": true
    },
    "kernelspec": {
      "name": "ir",
      "display_name": "R"
    },
    "language_info": {
      "name": "R"
    }
  },
  "cells": [
    {
      "cell_type": "markdown",
      "metadata": {
        "id": "view-in-github",
        "colab_type": "text"
      },
      "source": [
        "<a href=\"https://colab.research.google.com/github/Ishnaman24/Assignment5-R-/blob/main/random_string_generation.ipynb\" target=\"_parent\"><img src=\"https://colab.research.google.com/assets/colab-badge.svg\" alt=\"Open In Colab\"/></a>"
      ]
    },
    {
      "cell_type": "code",
      "source": [
        "randomString <- function(length){\n",
        "  char <- c(letters,LETTERS,0:9)\n",
        "  random_char <- sample(char,length,replace = TRUE)\n",
        "  random_string <- paste(random_char,collapse = \"\")\n",
        "  return(random_string)\n",
        "}\n",
        "num_strings <- 1000\n",
        "random_string <- replicate(num_strings,randomString(10))\n",
        "file_path <- \"random_strings.txt\"\n",
        "writeLines(random_string,file_path)"
      ],
      "metadata": {
        "id": "RJOxF-aQiGxw"
      },
      "execution_count": 9,
      "outputs": []
    }
  ]
}